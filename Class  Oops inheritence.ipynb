{
 "cells": [
  {
   "cell_type": "code",
   "execution_count": 1,
   "id": "dbee84b2",
   "metadata": {},
   "outputs": [],
   "source": [
    "class car :\n",
    "    pass"
   ]
  },
  {
   "cell_type": "code",
   "execution_count": 5,
   "id": "97685552",
   "metadata": {},
   "outputs": [],
   "source": [
    "class car :\n",
    "    def __init__(self,brand_name,fueltype,body_type):\n",
    "        \n",
    "        self.brand_name = brand_name\n",
    "        self.fueltype = fueltype\n",
    "        self.body_type = body_type\n",
    "        \n",
    "    def desc_car(self):\n",
    "        print(self.brand_name,self.fueltype,self.body_type)\n",
    "        "
   ]
  },
  {
   "cell_type": "code",
   "execution_count": 9,
   "id": "fd0269ba",
   "metadata": {},
   "outputs": [],
   "source": [
    "innova = car(\"toyota\",\"petrol\",\"suv\")\n",
    "nexon = car(\"tata\",\"petrol\",\"minisuv\")\n",
    "fortuner = car(\"toyota\",\"diesel\",\"suv\")\n"
   ]
  },
  {
   "cell_type": "code",
   "execution_count": 10,
   "id": "6332bb7b",
   "metadata": {},
   "outputs": [
    {
     "name": "stdout",
     "output_type": "stream",
     "text": [
      "toyota petrol suv\n"
     ]
    }
   ],
   "source": [
    "innova.desc_car()"
   ]
  },
  {
   "cell_type": "code",
   "execution_count": 11,
   "id": "3250d1f2",
   "metadata": {},
   "outputs": [
    {
     "data": {
      "text/plain": [
       "'toyota'"
      ]
     },
     "execution_count": 11,
     "metadata": {},
     "output_type": "execute_result"
    }
   ],
   "source": [
    "innova.brand_name"
   ]
  },
  {
   "cell_type": "code",
   "execution_count": 12,
   "id": "c0dabd83",
   "metadata": {},
   "outputs": [
    {
     "data": {
      "text/plain": [
       "'tata'"
      ]
     },
     "execution_count": 12,
     "metadata": {},
     "output_type": "execute_result"
    }
   ],
   "source": [
    "nexon.brand_name"
   ]
  },
  {
   "cell_type": "code",
   "execution_count": 15,
   "id": "a93781e5",
   "metadata": {},
   "outputs": [
    {
     "name": "stdout",
     "output_type": "stream",
     "text": [
      "<class 'int'>\n"
     ]
    }
   ],
   "source": [
    "a = 10\n",
    "print(type(a))"
   ]
  },
  {
   "cell_type": "code",
   "execution_count": 1,
   "id": "f80dba12",
   "metadata": {},
   "outputs": [],
   "source": [
    " class list_parser:\n",
    "        def parser(self,a):\n",
    "            if type(a)==list:\n",
    "                for i in a:\n",
    "                    print(i)"
   ]
  },
  {
   "cell_type": "code",
   "execution_count": 3,
   "id": "971a7e59",
   "metadata": {},
   "outputs": [
    {
     "name": "stdout",
     "output_type": "stream",
     "text": [
      "2\n",
      "3\n",
      "56\n",
      "8\n",
      "8\n",
      "9\n"
     ]
    }
   ],
   "source": [
    "c= list_parser()\n",
    "c.parser([2,3,56,8,8,9])"
   ]
  },
  {
   "cell_type": "code",
   "execution_count": 4,
   "id": "228d33f2",
   "metadata": {},
   "outputs": [],
   "source": [
    " class list_parser:\n",
    "        def parser(self,a):\n",
    "            if type(a)==list:\n",
    "                for i in a:\n",
    "                    print(i)\n",
    "        def reverser_list(self,z):\n",
    "            if type(z) == list:\n",
    "                return z[::-1]"
   ]
  },
  {
   "cell_type": "code",
   "execution_count": 5,
   "id": "94ac3b42",
   "metadata": {},
   "outputs": [
    {
     "name": "stdout",
     "output_type": "stream",
     "text": [
      "2\n",
      "3\n",
      "56\n",
      "8\n",
      "8\n",
      "9\n"
     ]
    }
   ],
   "source": [
    "c= list_parser()\n",
    "c.parser([2,3,56,8,8,9])"
   ]
  },
  {
   "cell_type": "code",
   "execution_count": 7,
   "id": "139bdbb2",
   "metadata": {},
   "outputs": [
    {
     "data": {
      "text/plain": [
       "[9, 8, 8, 56, 3, 2]"
      ]
     },
     "execution_count": 7,
     "metadata": {},
     "output_type": "execute_result"
    }
   ],
   "source": [
    "c.reverser_list([2,3,56,8,8,9])"
   ]
  },
  {
   "cell_type": "code",
   "execution_count": 8,
   "id": "a30a13f1",
   "metadata": {},
   "outputs": [],
   "source": [
    " class list_parser:\n",
    "        def __init__(self,l):\n",
    "            self.l = l\n",
    "        def parser(self):\n",
    "            if type(self.l)==list:\n",
    "                for i in self.l:\n",
    "                    print(i)\n",
    "        def reverser_list(self):\n",
    "            if type(self.l) == list:\n",
    "                return self.l[::-1]"
   ]
  },
  {
   "cell_type": "code",
   "execution_count": 10,
   "id": "d3146775",
   "metadata": {},
   "outputs": [
    {
     "name": "stdout",
     "output_type": "stream",
     "text": [
      "2\n",
      "3\n",
      "56\n",
      "8\n",
      "8\n",
      "9\n"
     ]
    }
   ],
   "source": [
    "c= list_parser([2,3,56,8,8,9])\n",
    "c.parser()"
   ]
  },
  {
   "cell_type": "code",
   "execution_count": null,
   "id": "9501d368",
   "metadata": {},
   "outputs": [],
   "source": [
    "create a class for dictionary parsing \n",
    "1. write a function to give all the keys\n",
    "2. write a function to give all the values\n",
    "3. write a function to throw an exception in case of input is not dictionary\n",
    "4. write a function to take user input and then parse a key and value out of dictionary\n",
    "5. write a function to insert new key value pair into dictionary\n"
   ]
  },
  {
   "cell_type": "code",
   "execution_count": 12,
   "id": "1593658e",
   "metadata": {},
   "outputs": [],
   "source": [
    "class xyz :\n",
    "    def __init__(self,a,b,c):\n",
    "        self.a = a\n",
    "        self.b = b\n",
    "        self.c = c\n",
    "    def test(self):\n",
    "        print(\"this is my first meth of xyz class\")\n",
    "    \n",
    "    def test1(self):\n",
    "        print(\"this is a test1 meth of xyz class\")\n",
    "        \n",
    "    def test2(self):\n",
    "        print(\"this is a test2 meth of xyz class\")\n",
    "        "
   ]
  },
  {
   "cell_type": "code",
   "execution_count": 13,
   "id": "3d771e7b",
   "metadata": {},
   "outputs": [],
   "source": [
    "p = xyz(1,2,3)"
   ]
  },
  {
   "cell_type": "code",
   "execution_count": 14,
   "id": "96393e0d",
   "metadata": {},
   "outputs": [
    {
     "name": "stdout",
     "output_type": "stream",
     "text": [
      "this is a test1 meth of xyz class\n"
     ]
    }
   ],
   "source": [
    "p.test1()"
   ]
  },
  {
   "cell_type": "code",
   "execution_count": 17,
   "id": "342a1dc8",
   "metadata": {},
   "outputs": [],
   "source": [
    "class xyz1(xyz):\n",
    "    pass"
   ]
  },
  {
   "cell_type": "code",
   "execution_count": 19,
   "id": "5c2a9a3d",
   "metadata": {},
   "outputs": [],
   "source": [
    "q = xyz1(1,2,3)"
   ]
  },
  {
   "cell_type": "code",
   "execution_count": 21,
   "id": "7eea6b1c",
   "metadata": {},
   "outputs": [
    {
     "name": "stdout",
     "output_type": "stream",
     "text": [
      "this is a test1 meth of xyz class\n"
     ]
    }
   ],
   "source": [
    "q.test1()"
   ]
  },
  {
   "cell_type": "code",
   "execution_count": 22,
   "id": "2c9a7975",
   "metadata": {},
   "outputs": [],
   "source": [
    "class xyz1(xyz):\n",
    "    def test(self):\n",
    "        print(\"this is a test meth in xyz1\")"
   ]
  },
  {
   "cell_type": "code",
   "execution_count": 23,
   "id": "a8fdb462",
   "metadata": {},
   "outputs": [],
   "source": [
    "g = xyz1(4,5,6)"
   ]
  },
  {
   "cell_type": "code",
   "execution_count": 24,
   "id": "4ae4bf1a",
   "metadata": {},
   "outputs": [
    {
     "name": "stdout",
     "output_type": "stream",
     "text": [
      "this is a test meth in xyz1\n"
     ]
    }
   ],
   "source": [
    "g.test()"
   ]
  },
  {
   "cell_type": "code",
   "execution_count": 7,
   "id": "c9b6c102",
   "metadata": {},
   "outputs": [],
   "source": [
    "class xyz:\n",
    "    def __init__(self,a,b,c):\n",
    "        self.a = a\n",
    "        self.b = b\n",
    "        self.c = c\n",
    "        \n",
    "    def test(self):\n",
    "        print(\"this is a meth of xyz class\")\n",
    "\n",
    "class xyz1:\n",
    "    \n",
    "    def __init__(self,p,q,v):\n",
    "        self.p = p\n",
    "        self.q = q\n",
    "        self.v = v\n",
    "        \n",
    "    def test1(self):\n",
    "        print(\"this is a meth from class xyz1\")\n",
    "        \n",
    "class child(xyz,xyz1):\n",
    "    def __init__(self,*args):\n",
    "        xyz.__init__(self, *args)\n",
    "        xyz1.__init__(self,*args)\n",
    "    "
   ]
  },
  {
   "cell_type": "code",
   "execution_count": 8,
   "id": "8b195e06",
   "metadata": {},
   "outputs": [],
   "source": [
    " n = child(4,5,6)"
   ]
  },
  {
   "cell_type": "code",
   "execution_count": 9,
   "id": "f16b0235",
   "metadata": {},
   "outputs": [
    {
     "data": {
      "text/plain": [
       "4"
      ]
     },
     "execution_count": 9,
     "metadata": {},
     "output_type": "execute_result"
    }
   ],
   "source": [
    "n.p"
   ]
  },
  {
   "cell_type": "code",
   "execution_count": 10,
   "id": "9f0e74eb",
   "metadata": {},
   "outputs": [
    {
     "data": {
      "text/plain": [
       "4"
      ]
     },
     "execution_count": 10,
     "metadata": {},
     "output_type": "execute_result"
    }
   ],
   "source": [
    "n.a"
   ]
  },
  {
   "cell_type": "code",
   "execution_count": 11,
   "id": "6a03c930",
   "metadata": {},
   "outputs": [
    {
     "data": {
      "text/plain": [
       "<bound method xyz1.test1 of <__main__.child object at 0x00000196384E3B80>>"
      ]
     },
     "execution_count": 11,
     "metadata": {},
     "output_type": "execute_result"
    }
   ],
   "source": [
    "n.test1"
   ]
  },
  {
   "cell_type": "code",
   "execution_count": 12,
   "id": "3cbd372d",
   "metadata": {},
   "outputs": [],
   "source": [
    "\n",
    "class test:\n",
    "    def __init__(self,a,b,c):\n",
    "        self.a = a\n",
    "        self.b = b\n",
    "        self.c = c\n",
    "        \n",
    "class test1(test):\n",
    "    pass\n",
    "u = test(4,5,6)"
   ]
  },
  {
   "cell_type": "code",
   "execution_count": 13,
   "id": "b36bd377",
   "metadata": {},
   "outputs": [],
   "source": [
    "v = test1(3,4,5)"
   ]
  },
  {
   "cell_type": "code",
   "execution_count": null,
   "id": "9938bf83",
   "metadata": {},
   "outputs": [],
   "source": [
    "\n"
   ]
  }
 ],
 "metadata": {
  "kernelspec": {
   "display_name": "Python 3 (ipykernel)",
   "language": "python",
   "name": "python3"
  },
  "language_info": {
   "codemirror_mode": {
    "name": "ipython",
    "version": 3
   },
   "file_extension": ".py",
   "mimetype": "text/x-python",
   "name": "python",
   "nbconvert_exporter": "python",
   "pygments_lexer": "ipython3",
   "version": "3.9.7"
  }
 },
 "nbformat": 4,
 "nbformat_minor": 5
}
